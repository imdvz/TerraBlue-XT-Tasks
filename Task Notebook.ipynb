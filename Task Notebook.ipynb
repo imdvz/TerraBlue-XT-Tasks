{
 "cells": [
  {
   "cell_type": "code",
   "execution_count": 1,
   "metadata": {},
   "outputs": [],
   "source": [
    "import pandas as pd\n",
    "\n",
    "import warnings\n",
    "warnings.filterwarnings(\"ignore\")"
   ]
  },
  {
   "cell_type": "code",
   "execution_count": 2,
   "metadata": {
    "scrolled": true
   },
   "outputs": [
    {
     "data": {
      "text/html": [
       "<div>\n",
       "<style scoped>\n",
       "    .dataframe tbody tr th:only-of-type {\n",
       "        vertical-align: middle;\n",
       "    }\n",
       "\n",
       "    .dataframe tbody tr th {\n",
       "        vertical-align: top;\n",
       "    }\n",
       "\n",
       "    .dataframe thead th {\n",
       "        text-align: right;\n",
       "    }\n",
       "</style>\n",
       "<table border=\"1\" class=\"dataframe\">\n",
       "  <thead>\n",
       "    <tr style=\"text-align: right;\">\n",
       "      <th></th>\n",
       "      <th>C1</th>\n",
       "      <th>C2</th>\n",
       "      <th>C3</th>\n",
       "      <th>C4</th>\n",
       "      <th>C5</th>\n",
       "      <th>C6</th>\n",
       "      <th>C7</th>\n",
       "    </tr>\n",
       "  </thead>\n",
       "  <tbody>\n",
       "    <tr>\n",
       "      <th>0</th>\n",
       "      <td>P1</td>\n",
       "      <td>0.394667</td>\n",
       "      <td>0.0000</td>\n",
       "      <td>0.000000</td>\n",
       "      <td>0.00000</td>\n",
       "      <td>NaN</td>\n",
       "      <td>N</td>\n",
       "    </tr>\n",
       "    <tr>\n",
       "      <th>1</th>\n",
       "      <td>P1</td>\n",
       "      <td>0.387915</td>\n",
       "      <td>0.0000</td>\n",
       "      <td>-1.710853</td>\n",
       "      <td>0.00000</td>\n",
       "      <td>NaN</td>\n",
       "      <td>N</td>\n",
       "    </tr>\n",
       "    <tr>\n",
       "      <th>2</th>\n",
       "      <td>P1</td>\n",
       "      <td>0.361299</td>\n",
       "      <td>0.0104</td>\n",
       "      <td>-6.861376</td>\n",
       "      <td>0.00000</td>\n",
       "      <td>1.0</td>\n",
       "      <td>S</td>\n",
       "    </tr>\n",
       "    <tr>\n",
       "      <th>3</th>\n",
       "      <td>P1</td>\n",
       "      <td>0.488484</td>\n",
       "      <td>0.0104</td>\n",
       "      <td>35.202105</td>\n",
       "      <td>0.00000</td>\n",
       "      <td>1.0</td>\n",
       "      <td>S</td>\n",
       "    </tr>\n",
       "    <tr>\n",
       "      <th>4</th>\n",
       "      <td>P1</td>\n",
       "      <td>0.398206</td>\n",
       "      <td>0.0000</td>\n",
       "      <td>-18.481272</td>\n",
       "      <td>8.04056</td>\n",
       "      <td>NaN</td>\n",
       "      <td>N</td>\n",
       "    </tr>\n",
       "  </tbody>\n",
       "</table>\n",
       "</div>"
      ],
      "text/plain": [
       "   C1        C2      C3         C4       C5   C6 C7\n",
       "0  P1  0.394667  0.0000   0.000000  0.00000  NaN  N\n",
       "1  P1  0.387915  0.0000  -1.710853  0.00000  NaN  N\n",
       "2  P1  0.361299  0.0104  -6.861376  0.00000  1.0  S\n",
       "3  P1  0.488484  0.0104  35.202105  0.00000  1.0  S\n",
       "4  P1  0.398206  0.0000 -18.481272  8.04056  NaN  N"
      ]
     },
     "execution_count": 2,
     "metadata": {},
     "output_type": "execute_result"
    }
   ],
   "source": [
    "df = pd.read_csv(\"Dataset.csv\")\n",
    "df.head()"
   ]
  },
  {
   "cell_type": "code",
   "execution_count": 3,
   "metadata": {
    "scrolled": true
   },
   "outputs": [
    {
     "data": {
      "text/html": [
       "<div>\n",
       "<style scoped>\n",
       "    .dataframe tbody tr th:only-of-type {\n",
       "        vertical-align: middle;\n",
       "    }\n",
       "\n",
       "    .dataframe tbody tr th {\n",
       "        vertical-align: top;\n",
       "    }\n",
       "\n",
       "    .dataframe thead th {\n",
       "        text-align: right;\n",
       "    }\n",
       "</style>\n",
       "<table border=\"1\" class=\"dataframe\">\n",
       "  <thead>\n",
       "    <tr style=\"text-align: right;\">\n",
       "      <th></th>\n",
       "      <th>count</th>\n",
       "      <th>mean</th>\n",
       "      <th>std</th>\n",
       "      <th>min</th>\n",
       "      <th>25%</th>\n",
       "      <th>50%</th>\n",
       "      <th>75%</th>\n",
       "      <th>max</th>\n",
       "    </tr>\n",
       "  </thead>\n",
       "  <tbody>\n",
       "    <tr>\n",
       "      <th>C2</th>\n",
       "      <td>22007.0</td>\n",
       "      <td>0.417560</td>\n",
       "      <td>0.253368</td>\n",
       "      <td>0.135146</td>\n",
       "      <td>0.263494</td>\n",
       "      <td>0.303054</td>\n",
       "      <td>0.506786</td>\n",
       "      <td>1.641544</td>\n",
       "    </tr>\n",
       "    <tr>\n",
       "      <th>C3</th>\n",
       "      <td>22007.0</td>\n",
       "      <td>0.012262</td>\n",
       "      <td>0.085103</td>\n",
       "      <td>0.000000</td>\n",
       "      <td>0.000000</td>\n",
       "      <td>0.000000</td>\n",
       "      <td>0.000000</td>\n",
       "      <td>1.336000</td>\n",
       "    </tr>\n",
       "    <tr>\n",
       "      <th>C4</th>\n",
       "      <td>22007.0</td>\n",
       "      <td>0.613107</td>\n",
       "      <td>11.374086</td>\n",
       "      <td>-85.450203</td>\n",
       "      <td>-3.429123</td>\n",
       "      <td>-0.136920</td>\n",
       "      <td>3.121814</td>\n",
       "      <td>344.552351</td>\n",
       "    </tr>\n",
       "    <tr>\n",
       "      <th>C5</th>\n",
       "      <td>22007.0</td>\n",
       "      <td>2.494014</td>\n",
       "      <td>5.584665</td>\n",
       "      <td>0.000000</td>\n",
       "      <td>0.486256</td>\n",
       "      <td>1.208030</td>\n",
       "      <td>2.745452</td>\n",
       "      <td>146.158245</td>\n",
       "    </tr>\n",
       "    <tr>\n",
       "      <th>C6</th>\n",
       "      <td>901.0</td>\n",
       "      <td>1.000000</td>\n",
       "      <td>0.000000</td>\n",
       "      <td>1.000000</td>\n",
       "      <td>1.000000</td>\n",
       "      <td>1.000000</td>\n",
       "      <td>1.000000</td>\n",
       "      <td>1.000000</td>\n",
       "    </tr>\n",
       "  </tbody>\n",
       "</table>\n",
       "</div>"
      ],
      "text/plain": [
       "      count      mean        std        min       25%       50%       75%  \\\n",
       "C2  22007.0  0.417560   0.253368   0.135146  0.263494  0.303054  0.506786   \n",
       "C3  22007.0  0.012262   0.085103   0.000000  0.000000  0.000000  0.000000   \n",
       "C4  22007.0  0.613107  11.374086 -85.450203 -3.429123 -0.136920  3.121814   \n",
       "C5  22007.0  2.494014   5.584665   0.000000  0.486256  1.208030  2.745452   \n",
       "C6    901.0  1.000000   0.000000   1.000000  1.000000  1.000000  1.000000   \n",
       "\n",
       "           max  \n",
       "C2    1.641544  \n",
       "C3    1.336000  \n",
       "C4  344.552351  \n",
       "C5  146.158245  \n",
       "C6    1.000000  "
      ]
     },
     "execution_count": 3,
     "metadata": {},
     "output_type": "execute_result"
    }
   ],
   "source": [
    "df.describe().T"
   ]
  },
  {
   "cell_type": "markdown",
   "metadata": {},
   "source": [
    "### 1-\tDo the null value imputation if Column 'C6' is binary and has mean value of 0.040941."
   ]
  },
  {
   "cell_type": "markdown",
   "metadata": {},
   "source": [
    "There are mainly 5 methods of imputing null values:\n",
    "\n",
    "- Delete the observations.\n",
    "- Replace missing values with the most frequent value.\n",
    "- Develop a model to predict missing values.\n",
    "- Deleting the variable.\n",
    "- Apply unsupervised Machine learning techniques."
   ]
  },
  {
   "cell_type": "code",
   "execution_count": 4,
   "metadata": {
    "scrolled": false
   },
   "outputs": [
    {
     "data": {
      "text/plain": [
       "C1        0\n",
       "C2        0\n",
       "C3        0\n",
       "C4        0\n",
       "C5        0\n",
       "C6    21106\n",
       "C7        0\n",
       "dtype: int64"
      ]
     },
     "execution_count": 4,
     "metadata": {},
     "output_type": "execute_result"
    }
   ],
   "source": [
    "df.isna().sum()"
   ]
  },
  {
   "cell_type": "code",
   "execution_count": 5,
   "metadata": {
    "scrolled": false
   },
   "outputs": [
    {
     "data": {
      "text/plain": [
       "array([nan,  1.])"
      ]
     },
     "execution_count": 5,
     "metadata": {},
     "output_type": "execute_result"
    }
   ],
   "source": [
    "df['C6'].unique()"
   ]
  },
  {
   "cell_type": "markdown",
   "metadata": {},
   "source": [
    "**Note:** Since, mean of column 'C6' was very small in comparison to 0.5, therefore, we are replacing null values with 0."
   ]
  },
  {
   "cell_type": "code",
   "execution_count": 6,
   "metadata": {},
   "outputs": [
    {
     "data": {
      "text/plain": [
       "C1    0\n",
       "C2    0\n",
       "C3    0\n",
       "C4    0\n",
       "C5    0\n",
       "C6    0\n",
       "C7    0\n",
       "dtype: int64"
      ]
     },
     "execution_count": 6,
     "metadata": {},
     "output_type": "execute_result"
    }
   ],
   "source": [
    "df = df.fillna(0)\n",
    "\n",
    "df.isna().sum()"
   ]
  },
  {
   "cell_type": "code",
   "execution_count": 7,
   "metadata": {},
   "outputs": [
    {
     "data": {
      "text/html": [
       "<div>\n",
       "<style scoped>\n",
       "    .dataframe tbody tr th:only-of-type {\n",
       "        vertical-align: middle;\n",
       "    }\n",
       "\n",
       "    .dataframe tbody tr th {\n",
       "        vertical-align: top;\n",
       "    }\n",
       "\n",
       "    .dataframe thead th {\n",
       "        text-align: right;\n",
       "    }\n",
       "</style>\n",
       "<table border=\"1\" class=\"dataframe\">\n",
       "  <thead>\n",
       "    <tr style=\"text-align: right;\">\n",
       "      <th></th>\n",
       "      <th>count</th>\n",
       "      <th>mean</th>\n",
       "      <th>std</th>\n",
       "      <th>min</th>\n",
       "      <th>25%</th>\n",
       "      <th>50%</th>\n",
       "      <th>75%</th>\n",
       "      <th>max</th>\n",
       "    </tr>\n",
       "  </thead>\n",
       "  <tbody>\n",
       "    <tr>\n",
       "      <th>C2</th>\n",
       "      <td>22007.0</td>\n",
       "      <td>0.417560</td>\n",
       "      <td>0.253368</td>\n",
       "      <td>0.135146</td>\n",
       "      <td>0.263494</td>\n",
       "      <td>0.303054</td>\n",
       "      <td>0.506786</td>\n",
       "      <td>1.641544</td>\n",
       "    </tr>\n",
       "    <tr>\n",
       "      <th>C3</th>\n",
       "      <td>22007.0</td>\n",
       "      <td>0.012262</td>\n",
       "      <td>0.085103</td>\n",
       "      <td>0.000000</td>\n",
       "      <td>0.000000</td>\n",
       "      <td>0.000000</td>\n",
       "      <td>0.000000</td>\n",
       "      <td>1.336000</td>\n",
       "    </tr>\n",
       "    <tr>\n",
       "      <th>C4</th>\n",
       "      <td>22007.0</td>\n",
       "      <td>0.613107</td>\n",
       "      <td>11.374086</td>\n",
       "      <td>-85.450203</td>\n",
       "      <td>-3.429123</td>\n",
       "      <td>-0.136920</td>\n",
       "      <td>3.121814</td>\n",
       "      <td>344.552351</td>\n",
       "    </tr>\n",
       "    <tr>\n",
       "      <th>C5</th>\n",
       "      <td>22007.0</td>\n",
       "      <td>2.494014</td>\n",
       "      <td>5.584665</td>\n",
       "      <td>0.000000</td>\n",
       "      <td>0.486256</td>\n",
       "      <td>1.208030</td>\n",
       "      <td>2.745452</td>\n",
       "      <td>146.158245</td>\n",
       "    </tr>\n",
       "    <tr>\n",
       "      <th>C6</th>\n",
       "      <td>22007.0</td>\n",
       "      <td>0.040942</td>\n",
       "      <td>0.198159</td>\n",
       "      <td>0.000000</td>\n",
       "      <td>0.000000</td>\n",
       "      <td>0.000000</td>\n",
       "      <td>0.000000</td>\n",
       "      <td>1.000000</td>\n",
       "    </tr>\n",
       "  </tbody>\n",
       "</table>\n",
       "</div>"
      ],
      "text/plain": [
       "      count      mean        std        min       25%       50%       75%  \\\n",
       "C2  22007.0  0.417560   0.253368   0.135146  0.263494  0.303054  0.506786   \n",
       "C3  22007.0  0.012262   0.085103   0.000000  0.000000  0.000000  0.000000   \n",
       "C4  22007.0  0.613107  11.374086 -85.450203 -3.429123 -0.136920  3.121814   \n",
       "C5  22007.0  2.494014   5.584665   0.000000  0.486256  1.208030  2.745452   \n",
       "C6  22007.0  0.040942   0.198159   0.000000  0.000000  0.000000  0.000000   \n",
       "\n",
       "           max  \n",
       "C2    1.641544  \n",
       "C3    1.336000  \n",
       "C4  344.552351  \n",
       "C5  146.158245  \n",
       "C6    1.000000  "
      ]
     },
     "execution_count": 7,
     "metadata": {},
     "output_type": "execute_result"
    }
   ],
   "source": [
    "df.describe().T"
   ]
  },
  {
   "cell_type": "markdown",
   "metadata": {},
   "source": [
    "### 2- Calculate the percentage of each level of column 'C7'."
   ]
  },
  {
   "cell_type": "code",
   "execution_count": 8,
   "metadata": {},
   "outputs": [
    {
     "data": {
      "text/html": [
       "<div>\n",
       "<style scoped>\n",
       "    .dataframe tbody tr th:only-of-type {\n",
       "        vertical-align: middle;\n",
       "    }\n",
       "\n",
       "    .dataframe tbody tr th {\n",
       "        vertical-align: top;\n",
       "    }\n",
       "\n",
       "    .dataframe thead th {\n",
       "        text-align: right;\n",
       "    }\n",
       "</style>\n",
       "<table border=\"1\" class=\"dataframe\">\n",
       "  <thead>\n",
       "    <tr style=\"text-align: right;\">\n",
       "      <th></th>\n",
       "      <th>C1</th>\n",
       "    </tr>\n",
       "    <tr>\n",
       "      <th>C7</th>\n",
       "      <th></th>\n",
       "    </tr>\n",
       "  </thead>\n",
       "  <tbody>\n",
       "    <tr>\n",
       "      <th>I</th>\n",
       "      <td>0.922434</td>\n",
       "    </tr>\n",
       "    <tr>\n",
       "      <th>N</th>\n",
       "      <td>95.905848</td>\n",
       "    </tr>\n",
       "    <tr>\n",
       "      <th>S</th>\n",
       "      <td>3.171718</td>\n",
       "    </tr>\n",
       "  </tbody>\n",
       "</table>\n",
       "</div>"
      ],
      "text/plain": [
       "           C1\n",
       "C7           \n",
       "I    0.922434\n",
       "N   95.905848\n",
       "S    3.171718"
      ]
     },
     "execution_count": 8,
     "metadata": {},
     "output_type": "execute_result"
    }
   ],
   "source": [
    "df.groupby('C7').count().drop(['C2', 'C4', 'C3', 'C5', 'C6'], axis='columns') / len(df) * 100"
   ]
  },
  {
   "cell_type": "markdown",
   "metadata": {},
   "source": [
    "- Occurence of I (in percentage): 0.9224\n",
    "- Occurence of N (in percentage): 95.9058\n",
    "- Occurence of S (in percentage): 3.1717"
   ]
  },
  {
   "cell_type": "markdown",
   "metadata": {},
   "source": [
    "### 3- Plot the mean and range of column 'C5' w.r.t each level of the target column."
   ]
  },
  {
   "cell_type": "markdown",
   "metadata": {},
   "source": [
    "Mean."
   ]
  },
  {
   "cell_type": "code",
   "execution_count": 9,
   "metadata": {
    "scrolled": true
   },
   "outputs": [
    {
     "data": {
      "text/html": [
       "<div>\n",
       "<style scoped>\n",
       "    .dataframe tbody tr th:only-of-type {\n",
       "        vertical-align: middle;\n",
       "    }\n",
       "\n",
       "    .dataframe tbody tr th {\n",
       "        vertical-align: top;\n",
       "    }\n",
       "\n",
       "    .dataframe thead th {\n",
       "        text-align: right;\n",
       "    }\n",
       "</style>\n",
       "<table border=\"1\" class=\"dataframe\">\n",
       "  <thead>\n",
       "    <tr style=\"text-align: right;\">\n",
       "      <th></th>\n",
       "      <th>C5</th>\n",
       "    </tr>\n",
       "    <tr>\n",
       "      <th>C7</th>\n",
       "      <th></th>\n",
       "    </tr>\n",
       "  </thead>\n",
       "  <tbody>\n",
       "    <tr>\n",
       "      <th>I</th>\n",
       "      <td>14.576912</td>\n",
       "    </tr>\n",
       "    <tr>\n",
       "      <th>N</th>\n",
       "      <td>2.249930</td>\n",
       "    </tr>\n",
       "    <tr>\n",
       "      <th>S</th>\n",
       "      <td>6.360506</td>\n",
       "    </tr>\n",
       "  </tbody>\n",
       "</table>\n",
       "</div>"
      ],
      "text/plain": [
       "           C5\n",
       "C7           \n",
       "I   14.576912\n",
       "N    2.249930\n",
       "S    6.360506"
      ]
     },
     "execution_count": 9,
     "metadata": {},
     "output_type": "execute_result"
    }
   ],
   "source": [
    "me = df.groupby('C7').mean().drop(['C2', 'C4', 'C3', 'C6'], axis='columns')\n",
    "me"
   ]
  },
  {
   "cell_type": "markdown",
   "metadata": {},
   "source": [
    "Range = Min to Max"
   ]
  },
  {
   "cell_type": "code",
   "execution_count": 10,
   "metadata": {
    "scrolled": true
   },
   "outputs": [
    {
     "data": {
      "text/html": [
       "<div>\n",
       "<style scoped>\n",
       "    .dataframe tbody tr th:only-of-type {\n",
       "        vertical-align: middle;\n",
       "    }\n",
       "\n",
       "    .dataframe tbody tr th {\n",
       "        vertical-align: top;\n",
       "    }\n",
       "\n",
       "    .dataframe thead th {\n",
       "        text-align: right;\n",
       "    }\n",
       "</style>\n",
       "<table border=\"1\" class=\"dataframe\">\n",
       "  <thead>\n",
       "    <tr style=\"text-align: right;\">\n",
       "      <th></th>\n",
       "      <th>C5</th>\n",
       "    </tr>\n",
       "    <tr>\n",
       "      <th>C7</th>\n",
       "      <th></th>\n",
       "    </tr>\n",
       "  </thead>\n",
       "  <tbody>\n",
       "    <tr>\n",
       "      <th>I</th>\n",
       "      <td>0.0</td>\n",
       "    </tr>\n",
       "    <tr>\n",
       "      <th>N</th>\n",
       "      <td>0.0</td>\n",
       "    </tr>\n",
       "    <tr>\n",
       "      <th>S</th>\n",
       "      <td>0.0</td>\n",
       "    </tr>\n",
       "  </tbody>\n",
       "</table>\n",
       "</div>"
      ],
      "text/plain": [
       "     C5\n",
       "C7     \n",
       "I   0.0\n",
       "N   0.0\n",
       "S   0.0"
      ]
     },
     "execution_count": 10,
     "metadata": {},
     "output_type": "execute_result"
    }
   ],
   "source": [
    "mi = df.groupby('C7').min().drop(['C1', 'C2', 'C4', 'C3', 'C6'], axis='columns')\n",
    "mi"
   ]
  },
  {
   "cell_type": "code",
   "execution_count": 11,
   "metadata": {},
   "outputs": [
    {
     "data": {
      "text/html": [
       "<div>\n",
       "<style scoped>\n",
       "    .dataframe tbody tr th:only-of-type {\n",
       "        vertical-align: middle;\n",
       "    }\n",
       "\n",
       "    .dataframe tbody tr th {\n",
       "        vertical-align: top;\n",
       "    }\n",
       "\n",
       "    .dataframe thead th {\n",
       "        text-align: right;\n",
       "    }\n",
       "</style>\n",
       "<table border=\"1\" class=\"dataframe\">\n",
       "  <thead>\n",
       "    <tr style=\"text-align: right;\">\n",
       "      <th></th>\n",
       "      <th>C5</th>\n",
       "    </tr>\n",
       "    <tr>\n",
       "      <th>C7</th>\n",
       "      <th></th>\n",
       "    </tr>\n",
       "  </thead>\n",
       "  <tbody>\n",
       "    <tr>\n",
       "      <th>I</th>\n",
       "      <td>146.158245</td>\n",
       "    </tr>\n",
       "    <tr>\n",
       "      <th>N</th>\n",
       "      <td>127.264707</td>\n",
       "    </tr>\n",
       "    <tr>\n",
       "      <th>S</th>\n",
       "      <td>99.628943</td>\n",
       "    </tr>\n",
       "  </tbody>\n",
       "</table>\n",
       "</div>"
      ],
      "text/plain": [
       "            C5\n",
       "C7            \n",
       "I   146.158245\n",
       "N   127.264707\n",
       "S    99.628943"
      ]
     },
     "execution_count": 11,
     "metadata": {},
     "output_type": "execute_result"
    }
   ],
   "source": [
    "ma = df.groupby('C7').max().drop(['C1', 'C2', 'C4', 'C3', 'C6'], axis='columns')\n",
    "ma"
   ]
  },
  {
   "cell_type": "code",
   "execution_count": 12,
   "metadata": {},
   "outputs": [
    {
     "data": {
      "image/png": "[encoded data removed]",
      "text/plain": [
       "<Figure size 432x288 with 1 Axes>"
      ]
     },
     "metadata": {
      "needs_background": "light"
     },
     "output_type": "display_data"
    }
   ],
   "source": [
    "level_C7 = ['I', 'N', 'S']\n",
    "\n",
    "import matplotlib.pyplot as plt\n",
    "\n",
    "me = plt.scatter(level_C7, me['C5'], color='orange')\n",
    "mi = plt.scatter(level_C7, mi['C5'], color='red')\n",
    "ma = plt.scatter(level_C7, ma['C5'], color='green')\n",
    "\n",
    "plt.ylabel('Column: C5', size=12)\n",
    "plt.xlabel('Column: C7 (levels)', size=12)\n",
    "plt.legend((me, mi, ma), ('Mean', 'Lower range/limit', 'Upper range/limit'))\n",
    "plt.show()"
   ]
  },
  {
   "cell_type": "markdown",
   "metadata": {},
   "source": [
    "### 4- Find the count of persons having 'C3' & 'C6' = 0 in common."
   ]
  },
  {
   "cell_type": "code",
   "execution_count": 13,
   "metadata": {},
   "outputs": [
    {
     "data": {
      "text/html": [
       "<div>\n",
       "<style scoped>\n",
       "    .dataframe tbody tr th:only-of-type {\n",
       "        vertical-align: middle;\n",
       "    }\n",
       "\n",
       "    .dataframe tbody tr th {\n",
       "        vertical-align: top;\n",
       "    }\n",
       "\n",
       "    .dataframe thead th {\n",
       "        text-align: right;\n",
       "    }\n",
       "</style>\n",
       "<table border=\"1\" class=\"dataframe\">\n",
       "  <thead>\n",
       "    <tr style=\"text-align: right;\">\n",
       "      <th></th>\n",
       "      <th>C3</th>\n",
       "      <th>C6</th>\n",
       "    </tr>\n",
       "    <tr>\n",
       "      <th>C1</th>\n",
       "      <th></th>\n",
       "      <th></th>\n",
       "    </tr>\n",
       "  </thead>\n",
       "  <tbody>\n",
       "    <tr>\n",
       "      <th>P1</th>\n",
       "      <td>647</td>\n",
       "      <td>647</td>\n",
       "    </tr>\n",
       "    <tr>\n",
       "      <th>P10</th>\n",
       "      <td>196</td>\n",
       "      <td>196</td>\n",
       "    </tr>\n",
       "    <tr>\n",
       "      <th>P11</th>\n",
       "      <td>598</td>\n",
       "      <td>598</td>\n",
       "    </tr>\n",
       "    <tr>\n",
       "      <th>P12</th>\n",
       "      <td>238</td>\n",
       "      <td>238</td>\n",
       "    </tr>\n",
       "    <tr>\n",
       "      <th>P13</th>\n",
       "      <td>1066</td>\n",
       "      <td>1066</td>\n",
       "    </tr>\n",
       "    <tr>\n",
       "      <th>P14</th>\n",
       "      <td>144</td>\n",
       "      <td>144</td>\n",
       "    </tr>\n",
       "    <tr>\n",
       "      <th>P15</th>\n",
       "      <td>243</td>\n",
       "      <td>243</td>\n",
       "    </tr>\n",
       "    <tr>\n",
       "      <th>P16</th>\n",
       "      <td>426</td>\n",
       "      <td>426</td>\n",
       "    </tr>\n",
       "    <tr>\n",
       "      <th>P17</th>\n",
       "      <td>534</td>\n",
       "      <td>534</td>\n",
       "    </tr>\n",
       "    <tr>\n",
       "      <th>P18</th>\n",
       "      <td>70</td>\n",
       "      <td>70</td>\n",
       "    </tr>\n",
       "    <tr>\n",
       "      <th>P19</th>\n",
       "      <td>121</td>\n",
       "      <td>121</td>\n",
       "    </tr>\n",
       "    <tr>\n",
       "      <th>P2</th>\n",
       "      <td>53</td>\n",
       "      <td>53</td>\n",
       "    </tr>\n",
       "    <tr>\n",
       "      <th>P20</th>\n",
       "      <td>1602</td>\n",
       "      <td>1602</td>\n",
       "    </tr>\n",
       "    <tr>\n",
       "      <th>P21</th>\n",
       "      <td>114</td>\n",
       "      <td>114</td>\n",
       "    </tr>\n",
       "    <tr>\n",
       "      <th>P22</th>\n",
       "      <td>212</td>\n",
       "      <td>212</td>\n",
       "    </tr>\n",
       "    <tr>\n",
       "      <th>P23</th>\n",
       "      <td>483</td>\n",
       "      <td>483</td>\n",
       "    </tr>\n",
       "    <tr>\n",
       "      <th>P24</th>\n",
       "      <td>32</td>\n",
       "      <td>32</td>\n",
       "    </tr>\n",
       "    <tr>\n",
       "      <th>P25</th>\n",
       "      <td>167</td>\n",
       "      <td>167</td>\n",
       "    </tr>\n",
       "    <tr>\n",
       "      <th>P26</th>\n",
       "      <td>1260</td>\n",
       "      <td>1260</td>\n",
       "    </tr>\n",
       "    <tr>\n",
       "      <th>P27</th>\n",
       "      <td>1116</td>\n",
       "      <td>1116</td>\n",
       "    </tr>\n",
       "    <tr>\n",
       "      <th>P28</th>\n",
       "      <td>965</td>\n",
       "      <td>965</td>\n",
       "    </tr>\n",
       "    <tr>\n",
       "      <th>P29</th>\n",
       "      <td>155</td>\n",
       "      <td>155</td>\n",
       "    </tr>\n",
       "    <tr>\n",
       "      <th>P3</th>\n",
       "      <td>458</td>\n",
       "      <td>458</td>\n",
       "    </tr>\n",
       "    <tr>\n",
       "      <th>P30</th>\n",
       "      <td>512</td>\n",
       "      <td>512</td>\n",
       "    </tr>\n",
       "    <tr>\n",
       "      <th>P31</th>\n",
       "      <td>188</td>\n",
       "      <td>188</td>\n",
       "    </tr>\n",
       "    <tr>\n",
       "      <th>P32</th>\n",
       "      <td>876</td>\n",
       "      <td>876</td>\n",
       "    </tr>\n",
       "    <tr>\n",
       "      <th>P33</th>\n",
       "      <td>1177</td>\n",
       "      <td>1177</td>\n",
       "    </tr>\n",
       "    <tr>\n",
       "      <th>P34</th>\n",
       "      <td>591</td>\n",
       "      <td>591</td>\n",
       "    </tr>\n",
       "    <tr>\n",
       "      <th>P35</th>\n",
       "      <td>208</td>\n",
       "      <td>208</td>\n",
       "    </tr>\n",
       "    <tr>\n",
       "      <th>P36</th>\n",
       "      <td>573</td>\n",
       "      <td>573</td>\n",
       "    </tr>\n",
       "    <tr>\n",
       "      <th>P37</th>\n",
       "      <td>103</td>\n",
       "      <td>103</td>\n",
       "    </tr>\n",
       "    <tr>\n",
       "      <th>P38</th>\n",
       "      <td>1352</td>\n",
       "      <td>1352</td>\n",
       "    </tr>\n",
       "    <tr>\n",
       "      <th>P39</th>\n",
       "      <td>944</td>\n",
       "      <td>944</td>\n",
       "    </tr>\n",
       "    <tr>\n",
       "      <th>P4</th>\n",
       "      <td>18</td>\n",
       "      <td>18</td>\n",
       "    </tr>\n",
       "    <tr>\n",
       "      <th>P5</th>\n",
       "      <td>192</td>\n",
       "      <td>192</td>\n",
       "    </tr>\n",
       "    <tr>\n",
       "      <th>P6</th>\n",
       "      <td>2191</td>\n",
       "      <td>2191</td>\n",
       "    </tr>\n",
       "    <tr>\n",
       "      <th>P7</th>\n",
       "      <td>418</td>\n",
       "      <td>418</td>\n",
       "    </tr>\n",
       "    <tr>\n",
       "      <th>P8</th>\n",
       "      <td>184</td>\n",
       "      <td>184</td>\n",
       "    </tr>\n",
       "    <tr>\n",
       "      <th>P9</th>\n",
       "      <td>679</td>\n",
       "      <td>679</td>\n",
       "    </tr>\n",
       "  </tbody>\n",
       "</table>\n",
       "</div>"
      ],
      "text/plain": [
       "       C3    C6\n",
       "C1             \n",
       "P1    647   647\n",
       "P10   196   196\n",
       "P11   598   598\n",
       "P12   238   238\n",
       "P13  1066  1066\n",
       "P14   144   144\n",
       "P15   243   243\n",
       "P16   426   426\n",
       "P17   534   534\n",
       "P18    70    70\n",
       "P19   121   121\n",
       "P2     53    53\n",
       "P20  1602  1602\n",
       "P21   114   114\n",
       "P22   212   212\n",
       "P23   483   483\n",
       "P24    32    32\n",
       "P25   167   167\n",
       "P26  1260  1260\n",
       "P27  1116  1116\n",
       "P28   965   965\n",
       "P29   155   155\n",
       "P3    458   458\n",
       "P30   512   512\n",
       "P31   188   188\n",
       "P32   876   876\n",
       "P33  1177  1177\n",
       "P34   591   591\n",
       "P35   208   208\n",
       "P36   573   573\n",
       "P37   103   103\n",
       "P38  1352  1352\n",
       "P39   944   944\n",
       "P4     18    18\n",
       "P5    192   192\n",
       "P6   2191  2191\n",
       "P7    418   418\n",
       "P8    184   184\n",
       "P9    679   679"
      ]
     },
     "execution_count": 13,
     "metadata": {},
     "output_type": "execute_result"
    }
   ],
   "source": [
    "X = df.loc[(df['C3'] == 0) & (df['C6'] == 0)]\n",
    "X.groupby('C1').count().drop(['C2', 'C4', 'C5', 'C7'], axis='columns')"
   ]
  },
  {
   "cell_type": "code",
   "execution_count": 14,
   "metadata": {
    "scrolled": false
   },
   "outputs": [
    {
     "name": "stdout",
     "output_type": "stream",
     "text": [
      "Count of persons having 'C3' & 'C6' = 0: 21106\n"
     ]
    }
   ],
   "source": [
    "print(\"Count of persons having 'C3' & 'C6' = 0:\", len(X))"
   ]
  },
  {
   "cell_type": "code",
   "execution_count": 15,
   "metadata": {
    "scrolled": true
   },
   "outputs": [
    {
     "data": {
      "text/html": [
       "<div>\n",
       "<style scoped>\n",
       "    .dataframe tbody tr th:only-of-type {\n",
       "        vertical-align: middle;\n",
       "    }\n",
       "\n",
       "    .dataframe tbody tr th {\n",
       "        vertical-align: top;\n",
       "    }\n",
       "\n",
       "    .dataframe thead th {\n",
       "        text-align: right;\n",
       "    }\n",
       "</style>\n",
       "<table border=\"1\" class=\"dataframe\">\n",
       "  <thead>\n",
       "    <tr style=\"text-align: right;\">\n",
       "      <th></th>\n",
       "      <th>C1</th>\n",
       "      <th>C2</th>\n",
       "      <th>C3</th>\n",
       "      <th>C4</th>\n",
       "      <th>C5</th>\n",
       "      <th>C6</th>\n",
       "      <th>C7</th>\n",
       "    </tr>\n",
       "  </thead>\n",
       "  <tbody>\n",
       "    <tr>\n",
       "      <th>0</th>\n",
       "      <td>0</td>\n",
       "      <td>0.394667</td>\n",
       "      <td>0.0000</td>\n",
       "      <td>0.000000</td>\n",
       "      <td>0.00000</td>\n",
       "      <td>0.0</td>\n",
       "      <td>1</td>\n",
       "    </tr>\n",
       "    <tr>\n",
       "      <th>1</th>\n",
       "      <td>0</td>\n",
       "      <td>0.387915</td>\n",
       "      <td>0.0000</td>\n",
       "      <td>-1.710853</td>\n",
       "      <td>0.00000</td>\n",
       "      <td>0.0</td>\n",
       "      <td>1</td>\n",
       "    </tr>\n",
       "    <tr>\n",
       "      <th>2</th>\n",
       "      <td>0</td>\n",
       "      <td>0.361299</td>\n",
       "      <td>0.0104</td>\n",
       "      <td>-6.861376</td>\n",
       "      <td>0.00000</td>\n",
       "      <td>1.0</td>\n",
       "      <td>2</td>\n",
       "    </tr>\n",
       "    <tr>\n",
       "      <th>3</th>\n",
       "      <td>0</td>\n",
       "      <td>0.488484</td>\n",
       "      <td>0.0104</td>\n",
       "      <td>35.202105</td>\n",
       "      <td>0.00000</td>\n",
       "      <td>1.0</td>\n",
       "      <td>2</td>\n",
       "    </tr>\n",
       "    <tr>\n",
       "      <th>4</th>\n",
       "      <td>0</td>\n",
       "      <td>0.398206</td>\n",
       "      <td>0.0000</td>\n",
       "      <td>-18.481272</td>\n",
       "      <td>8.04056</td>\n",
       "      <td>0.0</td>\n",
       "      <td>1</td>\n",
       "    </tr>\n",
       "  </tbody>\n",
       "</table>\n",
       "</div>"
      ],
      "text/plain": [
       "   C1        C2      C3         C4       C5   C6  C7\n",
       "0   0  0.394667  0.0000   0.000000  0.00000  0.0   1\n",
       "1   0  0.387915  0.0000  -1.710853  0.00000  0.0   1\n",
       "2   0  0.361299  0.0104  -6.861376  0.00000  1.0   2\n",
       "3   0  0.488484  0.0104  35.202105  0.00000  1.0   2\n",
       "4   0  0.398206  0.0000 -18.481272  8.04056  0.0   1"
      ]
     },
     "execution_count": 15,
     "metadata": {},
     "output_type": "execute_result"
    }
   ],
   "source": [
    "from sklearn.preprocessing import LabelEncoder\n",
    "\n",
    "labelencoder = LabelEncoder()\n",
    "df['C1'] = labelencoder.fit_transform(y=df['C1'])\n",
    "df['C7'] = labelencoder.fit_transform(y=df['C7'])\n",
    "df.head()"
   ]
  },
  {
   "cell_type": "markdown",
   "metadata": {},
   "source": [
    "**I = 0, N = 1 and S = 2**"
   ]
  },
  {
   "cell_type": "markdown",
   "metadata": {},
   "source": [
    "### 6- Create a data frame using ‘group by’ function showing counts of each level of target column and mean values of column ‘C4’."
   ]
  },
  {
   "cell_type": "code",
   "execution_count": 16,
   "metadata": {},
   "outputs": [
    {
     "data": {
      "text/html": [
       "<div>\n",
       "<style scoped>\n",
       "    .dataframe tbody tr th:only-of-type {\n",
       "        vertical-align: middle;\n",
       "    }\n",
       "\n",
       "    .dataframe tbody tr th {\n",
       "        vertical-align: top;\n",
       "    }\n",
       "\n",
       "    .dataframe thead th {\n",
       "        text-align: right;\n",
       "    }\n",
       "</style>\n",
       "<table border=\"1\" class=\"dataframe\">\n",
       "  <thead>\n",
       "    <tr style=\"text-align: right;\">\n",
       "      <th></th>\n",
       "      <th>C4</th>\n",
       "    </tr>\n",
       "    <tr>\n",
       "      <th>C7</th>\n",
       "      <th></th>\n",
       "    </tr>\n",
       "  </thead>\n",
       "  <tbody>\n",
       "    <tr>\n",
       "      <th>0</th>\n",
       "      <td>203</td>\n",
       "    </tr>\n",
       "    <tr>\n",
       "      <th>1</th>\n",
       "      <td>21106</td>\n",
       "    </tr>\n",
       "    <tr>\n",
       "      <th>2</th>\n",
       "      <td>698</td>\n",
       "    </tr>\n",
       "  </tbody>\n",
       "</table>\n",
       "</div>"
      ],
      "text/plain": [
       "       C4\n",
       "C7       \n",
       "0     203\n",
       "1   21106\n",
       "2     698"
      ]
     },
     "execution_count": 16,
     "metadata": {},
     "output_type": "execute_result"
    }
   ],
   "source": [
    "count_C4 = df.groupby('C7').count().drop(['C1', 'C2', 'C3', 'C5', 'C6'], axis='columns')\n",
    "count_C4"
   ]
  },
  {
   "cell_type": "code",
   "execution_count": 17,
   "metadata": {
    "scrolled": true
   },
   "outputs": [
    {
     "data": {
      "text/html": [
       "<div>\n",
       "<style scoped>\n",
       "    .dataframe tbody tr th:only-of-type {\n",
       "        vertical-align: middle;\n",
       "    }\n",
       "\n",
       "    .dataframe tbody tr th {\n",
       "        vertical-align: top;\n",
       "    }\n",
       "\n",
       "    .dataframe thead th {\n",
       "        text-align: right;\n",
       "    }\n",
       "</style>\n",
       "<table border=\"1\" class=\"dataframe\">\n",
       "  <thead>\n",
       "    <tr style=\"text-align: right;\">\n",
       "      <th></th>\n",
       "      <th>C4</th>\n",
       "    </tr>\n",
       "    <tr>\n",
       "      <th>C7</th>\n",
       "      <th></th>\n",
       "    </tr>\n",
       "  </thead>\n",
       "  <tbody>\n",
       "    <tr>\n",
       "      <th>0</th>\n",
       "      <td>17.512347</td>\n",
       "    </tr>\n",
       "    <tr>\n",
       "      <th>1</th>\n",
       "      <td>0.194087</td>\n",
       "    </tr>\n",
       "    <tr>\n",
       "      <th>2</th>\n",
       "      <td>8.368522</td>\n",
       "    </tr>\n",
       "  </tbody>\n",
       "</table>\n",
       "</div>"
      ],
      "text/plain": [
       "           C4\n",
       "C7           \n",
       "0   17.512347\n",
       "1    0.194087\n",
       "2    8.368522"
      ]
     },
     "execution_count": 17,
     "metadata": {},
     "output_type": "execute_result"
    }
   ],
   "source": [
    "mean_C4 = df.groupby('C7').mean().drop(['C1', 'C2', 'C3', 'C5', 'C6'], axis='columns')\n",
    "mean_C4"
   ]
  },
  {
   "cell_type": "markdown",
   "metadata": {},
   "source": [
    "The required DataFrame is below."
   ]
  },
  {
   "cell_type": "code",
   "execution_count": 18,
   "metadata": {},
   "outputs": [
    {
     "data": {
      "text/html": [
       "<div>\n",
       "<style scoped>\n",
       "    .dataframe tbody tr th:only-of-type {\n",
       "        vertical-align: middle;\n",
       "    }\n",
       "\n",
       "    .dataframe tbody tr th {\n",
       "        vertical-align: top;\n",
       "    }\n",
       "\n",
       "    .dataframe thead th {\n",
       "        text-align: right;\n",
       "    }\n",
       "</style>\n",
       "<table border=\"1\" class=\"dataframe\">\n",
       "  <thead>\n",
       "    <tr style=\"text-align: right;\">\n",
       "      <th></th>\n",
       "      <th>Count</th>\n",
       "      <th>Mean</th>\n",
       "    </tr>\n",
       "    <tr>\n",
       "      <th>C7</th>\n",
       "      <th></th>\n",
       "      <th></th>\n",
       "    </tr>\n",
       "  </thead>\n",
       "  <tbody>\n",
       "    <tr>\n",
       "      <th>0</th>\n",
       "      <td>203</td>\n",
       "      <td>17.512347</td>\n",
       "    </tr>\n",
       "    <tr>\n",
       "      <th>1</th>\n",
       "      <td>21106</td>\n",
       "      <td>0.194087</td>\n",
       "    </tr>\n",
       "    <tr>\n",
       "      <th>2</th>\n",
       "      <td>698</td>\n",
       "      <td>8.368522</td>\n",
       "    </tr>\n",
       "  </tbody>\n",
       "</table>\n",
       "</div>"
      ],
      "text/plain": [
       "    Count       Mean\n",
       "C7                  \n",
       "0     203  17.512347\n",
       "1   21106   0.194087\n",
       "2     698   8.368522"
      ]
     },
     "execution_count": 18,
     "metadata": {},
     "output_type": "execute_result"
    }
   ],
   "source": [
    "df_C4 = pd.DataFrame()\n",
    "df_C4['Count'] = count_C4['C4']\n",
    "df_C4['Mean'] = mean_C4['C4']\n",
    "\n",
    "df_C4"
   ]
  },
  {
   "cell_type": "markdown",
   "metadata": {},
   "source": [
    "**I = 0, N = 1 and S = 2**"
   ]
  },
  {
   "cell_type": "markdown",
   "metadata": {},
   "source": [
    "### 7- Find the person code that got highest number of entries in the dataset."
   ]
  },
  {
   "cell_type": "code",
   "execution_count": 19,
   "metadata": {
    "scrolled": true
   },
   "outputs": [
    {
     "data": {
      "text/html": [
       "<div>\n",
       "<style scoped>\n",
       "    .dataframe tbody tr th:only-of-type {\n",
       "        vertical-align: middle;\n",
       "    }\n",
       "\n",
       "    .dataframe tbody tr th {\n",
       "        vertical-align: top;\n",
       "    }\n",
       "\n",
       "    .dataframe thead th {\n",
       "        text-align: right;\n",
       "    }\n",
       "</style>\n",
       "<table border=\"1\" class=\"dataframe\">\n",
       "  <thead>\n",
       "    <tr style=\"text-align: right;\">\n",
       "      <th></th>\n",
       "      <th>Count</th>\n",
       "    </tr>\n",
       "    <tr>\n",
       "      <th>C1</th>\n",
       "      <th></th>\n",
       "    </tr>\n",
       "  </thead>\n",
       "  <tbody>\n",
       "    <tr>\n",
       "      <th>P6</th>\n",
       "      <td>2217</td>\n",
       "    </tr>\n",
       "    <tr>\n",
       "      <th>P20</th>\n",
       "      <td>1620</td>\n",
       "    </tr>\n",
       "    <tr>\n",
       "      <th>P38</th>\n",
       "      <td>1392</td>\n",
       "    </tr>\n",
       "    <tr>\n",
       "      <th>P26</th>\n",
       "      <td>1269</td>\n",
       "    </tr>\n",
       "    <tr>\n",
       "      <th>P33</th>\n",
       "      <td>1195</td>\n",
       "    </tr>\n",
       "    <tr>\n",
       "      <th>P27</th>\n",
       "      <td>1155</td>\n",
       "    </tr>\n",
       "    <tr>\n",
       "      <th>P13</th>\n",
       "      <td>1083</td>\n",
       "    </tr>\n",
       "    <tr>\n",
       "      <th>P28</th>\n",
       "      <td>989</td>\n",
       "    </tr>\n",
       "    <tr>\n",
       "      <th>P39</th>\n",
       "      <td>972</td>\n",
       "    </tr>\n",
       "    <tr>\n",
       "      <th>P32</th>\n",
       "      <td>894</td>\n",
       "    </tr>\n",
       "  </tbody>\n",
       "</table>\n",
       "</div>"
      ],
      "text/plain": [
       "     Count\n",
       "C1        \n",
       "P6    2217\n",
       "P20   1620\n",
       "P38   1392\n",
       "P26   1269\n",
       "P33   1195\n",
       "P27   1155\n",
       "P13   1083\n",
       "P28    989\n",
       "P39    972\n",
       "P32    894"
      ]
     },
     "execution_count": 19,
     "metadata": {},
     "output_type": "execute_result"
    }
   ],
   "source": [
    "df_1 = pd.read_csv(\"Dataset.csv\")\n",
    "df_1 = df_1.fillna(0)\n",
    "\n",
    "df_C1 = df_1.groupby('C1').count().drop(['C2', 'C3', 'C5', 'C6', 'C7'], axis='columns').sort_values('C4',ascending=False)\n",
    "df_C1.columns = ['Count']\n",
    "df_C1.head(10)"
   ]
  },
  {
   "cell_type": "markdown",
   "metadata": {},
   "source": [
    "**Answer:** Person Code - 'P6' has the highest number of entries."
   ]
  },
  {
   "cell_type": "markdown",
   "metadata": {},
   "source": [
    "### 8- Find the person code that got highest percentage of level 'I' w.r.t others."
   ]
  },
  {
   "cell_type": "code",
   "execution_count": 20,
   "metadata": {},
   "outputs": [
    {
     "data": {
      "text/html": [
       "<div>\n",
       "<style scoped>\n",
       "    .dataframe tbody tr th:only-of-type {\n",
       "        vertical-align: middle;\n",
       "    }\n",
       "\n",
       "    .dataframe tbody tr th {\n",
       "        vertical-align: top;\n",
       "    }\n",
       "\n",
       "    .dataframe thead th {\n",
       "        text-align: right;\n",
       "    }\n",
       "</style>\n",
       "<table border=\"1\" class=\"dataframe\">\n",
       "  <thead>\n",
       "    <tr style=\"text-align: right;\">\n",
       "      <th></th>\n",
       "      <th>Percentage</th>\n",
       "    </tr>\n",
       "    <tr>\n",
       "      <th>C1</th>\n",
       "      <th></th>\n",
       "    </tr>\n",
       "  </thead>\n",
       "  <tbody>\n",
       "    <tr>\n",
       "      <th>P3</th>\n",
       "      <td>18.226601</td>\n",
       "    </tr>\n",
       "    <tr>\n",
       "      <th>P2</th>\n",
       "      <td>5.418719</td>\n",
       "    </tr>\n",
       "    <tr>\n",
       "      <th>P4</th>\n",
       "      <td>4.926108</td>\n",
       "    </tr>\n",
       "    <tr>\n",
       "      <th>P12</th>\n",
       "      <td>4.433498</td>\n",
       "    </tr>\n",
       "    <tr>\n",
       "      <th>P23</th>\n",
       "      <td>3.940887</td>\n",
       "    </tr>\n",
       "    <tr>\n",
       "      <th>P24</th>\n",
       "      <td>3.448276</td>\n",
       "    </tr>\n",
       "    <tr>\n",
       "      <th>P1</th>\n",
       "      <td>2.955665</td>\n",
       "    </tr>\n",
       "    <tr>\n",
       "      <th>P25</th>\n",
       "      <td>2.955665</td>\n",
       "    </tr>\n",
       "  </tbody>\n",
       "</table>\n",
       "</div>"
      ],
      "text/plain": [
       "     Percentage\n",
       "C1             \n",
       "P3    18.226601\n",
       "P2     5.418719\n",
       "P4     4.926108\n",
       "P12    4.433498\n",
       "P23    3.940887\n",
       "P24    3.448276\n",
       "P1     2.955665\n",
       "P25    2.955665"
      ]
     },
     "execution_count": 20,
     "metadata": {},
     "output_type": "execute_result"
    }
   ],
   "source": [
    "I = df_1.loc[(df_1['C7'] == 'I')]\n",
    "\n",
    "df_C1_I = I.groupby(['C1']).count().drop(['C2', 'C3', 'C5', 'C6', 'C7'], axis='columns').sort_values('C4',ascending=False) / len(I) * 100\n",
    "df_C1_I.columns = ['Percentage']\n",
    "\n",
    "df_C1_I.head(8)"
   ]
  },
  {
   "cell_type": "markdown",
   "metadata": {},
   "source": [
    "**Answer:** Person Code - 'P3' has the highest percentage of 18.2266% of 'I' wrt to other person codes."
   ]
  },
  {
   "cell_type": "markdown",
   "metadata": {},
   "source": [
    "### 12.\tChoose any algorithm of your choice and perform classification task for the dataset given.\n",
    "- Print the confusion matrix.\n",
    "- Calculate the F1 score and Recall. (Scores of 0.75+ will be appreciated).\n"
   ]
  },
  {
   "cell_type": "code",
   "execution_count": 21,
   "metadata": {
    "scrolled": false
   },
   "outputs": [
    {
     "data": {
      "text/html": [
       "<div>\n",
       "<style scoped>\n",
       "    .dataframe tbody tr th:only-of-type {\n",
       "        vertical-align: middle;\n",
       "    }\n",
       "\n",
       "    .dataframe tbody tr th {\n",
       "        vertical-align: top;\n",
       "    }\n",
       "\n",
       "    .dataframe thead th {\n",
       "        text-align: right;\n",
       "    }\n",
       "</style>\n",
       "<table border=\"1\" class=\"dataframe\">\n",
       "  <thead>\n",
       "    <tr style=\"text-align: right;\">\n",
       "      <th></th>\n",
       "      <th>C1</th>\n",
       "      <th>C2</th>\n",
       "      <th>C3</th>\n",
       "      <th>C4</th>\n",
       "      <th>C5</th>\n",
       "      <th>C6</th>\n",
       "      <th>C7</th>\n",
       "    </tr>\n",
       "  </thead>\n",
       "  <tbody>\n",
       "    <tr>\n",
       "      <th>0</th>\n",
       "      <td>0</td>\n",
       "      <td>0.394667</td>\n",
       "      <td>0.0000</td>\n",
       "      <td>0.000000</td>\n",
       "      <td>0.00000</td>\n",
       "      <td>0.0</td>\n",
       "      <td>1</td>\n",
       "    </tr>\n",
       "    <tr>\n",
       "      <th>1</th>\n",
       "      <td>0</td>\n",
       "      <td>0.387915</td>\n",
       "      <td>0.0000</td>\n",
       "      <td>-1.710853</td>\n",
       "      <td>0.00000</td>\n",
       "      <td>0.0</td>\n",
       "      <td>1</td>\n",
       "    </tr>\n",
       "    <tr>\n",
       "      <th>2</th>\n",
       "      <td>0</td>\n",
       "      <td>0.361299</td>\n",
       "      <td>0.0104</td>\n",
       "      <td>-6.861376</td>\n",
       "      <td>0.00000</td>\n",
       "      <td>1.0</td>\n",
       "      <td>2</td>\n",
       "    </tr>\n",
       "    <tr>\n",
       "      <th>3</th>\n",
       "      <td>0</td>\n",
       "      <td>0.488484</td>\n",
       "      <td>0.0104</td>\n",
       "      <td>35.202105</td>\n",
       "      <td>0.00000</td>\n",
       "      <td>1.0</td>\n",
       "      <td>2</td>\n",
       "    </tr>\n",
       "    <tr>\n",
       "      <th>4</th>\n",
       "      <td>0</td>\n",
       "      <td>0.398206</td>\n",
       "      <td>0.0000</td>\n",
       "      <td>-18.481272</td>\n",
       "      <td>8.04056</td>\n",
       "      <td>0.0</td>\n",
       "      <td>1</td>\n",
       "    </tr>\n",
       "  </tbody>\n",
       "</table>\n",
       "</div>"
      ],
      "text/plain": [
       "   C1        C2      C3         C4       C5   C6  C7\n",
       "0   0  0.394667  0.0000   0.000000  0.00000  0.0   1\n",
       "1   0  0.387915  0.0000  -1.710853  0.00000  0.0   1\n",
       "2   0  0.361299  0.0104  -6.861376  0.00000  1.0   2\n",
       "3   0  0.488484  0.0104  35.202105  0.00000  1.0   2\n",
       "4   0  0.398206  0.0000 -18.481272  8.04056  0.0   1"
      ]
     },
     "execution_count": 21,
     "metadata": {},
     "output_type": "execute_result"
    }
   ],
   "source": [
    "df.head()"
   ]
  },
  {
   "cell_type": "markdown",
   "metadata": {},
   "source": [
    "Using **XGBClassifier**"
   ]
  },
  {
   "cell_type": "code",
   "execution_count": 22,
   "metadata": {},
   "outputs": [
    {
     "name": "stdout",
     "output_type": "stream",
     "text": [
      "[20:41:45] WARNING: C:/Users/Administrator/workspace/xgboost-win64_release_1.4.0/src/learner.cc:1095: Starting in XGBoost 1.3.0, the default evaluation metric used with the objective 'multi:softprob' was changed from 'merror' to 'mlogloss'. Explicitly set eval_metric if you'd like to restore the old behavior.\n"
     ]
    },
    {
     "data": {
      "text/plain": [
       "XGBClassifier(base_score=0.5, booster='gbtree', colsample_bylevel=1,\n",
       "              colsample_bynode=1, colsample_bytree=1, gamma=0, gpu_id=-1,\n",
       "              importance_type='gain', interaction_constraints='',\n",
       "              learning_rate=0.300000012, max_delta_step=0, max_depth=6,\n",
       "              min_child_weight=1, missing=nan, monotone_constraints='()',\n",
       "              n_estimators=100, n_jobs=8, num_parallel_tree=1,\n",
       "              objective='multi:softprob', random_state=0, reg_alpha=0,\n",
       "              reg_lambda=1, scale_pos_weight=None, subsample=1,\n",
       "              tree_method='exact', validate_parameters=1, verbosity=None)"
      ]
     },
     "execution_count": 22,
     "metadata": {},
     "output_type": "execute_result"
    }
   ],
   "source": [
    "from sklearn.model_selection import train_test_split\n",
    "from xgboost.sklearn import XGBClassifier\n",
    "\n",
    "Y = df['C7']\n",
    "X = df[['C1', 'C2', 'C3', 'C4', 'C5', 'C6']]\n",
    "\n",
    "X_train, X_test, Y_train, Y_test = train_test_split(X, Y, test_size = 0.2)\n",
    "\n",
    "clf = XGBClassifier()\n",
    "clf.fit(X_train, Y_train)"
   ]
  },
  {
   "cell_type": "code",
   "execution_count": 23,
   "metadata": {},
   "outputs": [],
   "source": [
    "from sklearn.metrics import confusion_matrix, f1_score, recall_score\n",
    "\n",
    "def model_result(clf, x_test, y_test):\n",
    "    y_prob=clf.predict_proba(x_test)\n",
    "    y_pred=clf.predict(x_test)\n",
    "    print('F1 core :',(f1_score(y_test, y_pred, pos_label='positive', average='micro')))\n",
    "    print('\\nRecall score :',(recall_score(y_test, y_pred, pos_label='positive', average='micro')))\n",
    "    print('\\nConfusion_matrix : ')\n",
    "    print(confusion_matrix(y_test,y_pred))"
   ]
  },
  {
   "cell_type": "code",
   "execution_count": 24,
   "metadata": {
    "scrolled": true
   },
   "outputs": [
    {
     "name": "stdout",
     "output_type": "stream",
     "text": [
      "F1 core : 0.9936392548841436\n",
      "\n",
      "Recall score : 0.9936392548841436\n",
      "\n",
      "Confusion_matrix : \n",
      "[[  31    0   23]\n",
      " [   0 4200    0]\n",
      " [   5    0  143]]\n"
     ]
    }
   ],
   "source": [
    "model_result(clf, X_test, Y_test)"
   ]
  },
  {
   "cell_type": "markdown",
   "metadata": {},
   "source": [
    "### 5- Which two levels of target column are overlapping in nature according to given independent features. Show the overlap on a plot to support your answer."
   ]
  },
  {
   "cell_type": "code",
   "execution_count": 25,
   "metadata": {
    "scrolled": false
   },
   "outputs": [
    {
     "name": "stdout",
     "output_type": "stream",
     "text": [
      "Occurence of I: 203\n",
      "Occurence of N: 21106\n",
      "Occurence of S: 698\n"
     ]
    }
   ],
   "source": [
    "I = df.loc[(df['C7'] == 0)]\n",
    "N = df.loc[(df['C7'] == 1)]\n",
    "S = df.loc[(df['C7'] == 2)]\n",
    "\n",
    "print(\"Occurence of I:\", len(I))\n",
    "print(\"Occurence of N:\", len(N))\n",
    "print(\"Occurence of S:\", len(S))"
   ]
  },
  {
   "cell_type": "code",
   "execution_count": 26,
   "metadata": {},
   "outputs": [
    {
     "name": "stdout",
     "output_type": "stream",
     "text": [
      "Feature: 0, Score: 0.04329\n",
      "Feature: 1, Score: 0.03911\n",
      "Feature: 2, Score: 0.85692\n",
      "Feature: 3, Score: 0.02706\n",
      "Feature: 4, Score: 0.03362\n",
      "Feature: 5, Score: 0.00000\n",
      "\n",
      " Index(['C1', 'C2', 'C3', 'C4', 'C5', 'C6'], dtype='object')\n"
     ]
    }
   ],
   "source": [
    "importance = clf.feature_importances_\n",
    "\n",
    "for i,v in enumerate(importance):\n",
    "    print('Feature: %0d, Score: %.5f' % (i,v))\n",
    "    \n",
    "print('\\n',X.columns)"
   ]
  },
  {
   "cell_type": "markdown",
   "metadata": {},
   "source": [
    "Since, columns 'C3' and 'C1' have the highest feature importance with the target column 'C7', therefore, we will use them to plot/show the overlap of levels."
   ]
  },
  {
   "cell_type": "code",
   "execution_count": 27,
   "metadata": {
    "scrolled": false
   },
   "outputs": [
    {
     "data": {
      "image/png": "[encoded data removed]",
      "text/plain": [
       "<Figure size 1440x504 with 3 Axes>"
      ]
     },
     "metadata": {
      "needs_background": "light"
     },
     "output_type": "display_data"
    }
   ],
   "source": [
    "fig, ax_arr =plt.subplots(1,3, figsize=(20,7))\n",
    "ax_arr[0].hist(I['C3'], bins=10, alpha=0.5, label=\"I: C3\")\n",
    "ax_arr[0].hist(S['C3'], bins=10, alpha=0.5, label=\"S: C3\")\n",
    "ax_arr[0].set_title('Histogram of column C3 of I & S', size=16)\n",
    "ax_arr[0].set_xlabel('Column C3 of I & S', size=13)\n",
    "ax_arr[0].set_ylabel('Count', size=13)\n",
    "\n",
    "ax_arr[1].hist(I['C3'], bins=10, alpha=0.5, label=\"I: C3\")\n",
    "ax_arr[1].hist(N['C3'], bins=10, alpha=0.5, label=\"N: C3\")\n",
    "ax_arr[1].set_title('Histogram of column C3 of I & N', size=16)\n",
    "ax_arr[1].set_xlabel('Column C3 of I & N', size=13)\n",
    "ax_arr[1].set_ylabel('Count', size=13)\n",
    "\n",
    "ax_arr[2].hist(S['C3'], bins=10, alpha=0.5, label=\"S: C3\")\n",
    "ax_arr[2].hist(N['C3'], bins=10, alpha=0.5, label=\"N: C3\")\n",
    "ax_arr[2].set_title('Histogram of column C3 of S & N', size=16)\n",
    "ax_arr[2].set_xlabel('Column C3 of S & N', size=13)\n",
    "ax_arr[2].set_ylabel('Count', size=13)\n",
    "\n",
    "fig.show()"
   ]
  },
  {
   "cell_type": "code",
   "execution_count": 28,
   "metadata": {},
   "outputs": [
    {
     "data": {
      "image/png": "[encoded data removed]",
      "text/plain": [
       "<Figure size 1440x504 with 3 Axes>"
      ]
     },
     "metadata": {
      "needs_background": "light"
     },
     "output_type": "display_data"
    }
   ],
   "source": [
    "fig, ax_arr =plt.subplots(1,3, figsize=(20,7))\n",
    "ax_arr[0].hist(I['C1'], bins=10, alpha=0.5, label=\"I: C1\")\n",
    "ax_arr[0].hist(S['C1'], bins=10, alpha=0.5, label=\"S: C1\")\n",
    "ax_arr[0].set_title('Histogram of column C1 of I & S', size=16)\n",
    "ax_arr[0].set_xlabel('Column C1 of I & S', size=13)\n",
    "ax_arr[0].set_ylabel('Count', size=13)\n",
    "\n",
    "ax_arr[1].hist(I['C1'], bins=10, alpha=0.5, label=\"I: C1\")\n",
    "ax_arr[1].hist(N['C1'], bins=10, alpha=0.5, label=\"N: C1\")\n",
    "ax_arr[1].set_title('Histogram of column C1 of I & N', size=16)\n",
    "ax_arr[1].set_xlabel('Column C1 of I & N', size=13)\n",
    "ax_arr[1].set_ylabel('Count', size=13)\n",
    "\n",
    "ax_arr[2].hist(S['C1'], bins=10, alpha=0.5, label=\"S: C1\")\n",
    "ax_arr[2].hist(N['C1'], bins=10, alpha=0.5, label=\"N: C1\")\n",
    "ax_arr[2].set_title('Histogram of column C1 of S & N', size=16)\n",
    "ax_arr[2].set_xlabel('Column C1 of S & N', size=13)\n",
    "ax_arr[2].set_ylabel('Count', size=13)\n",
    "\n",
    "fig.show()"
   ]
  },
  {
   "cell_type": "markdown",
   "metadata": {},
   "source": [
    "**Conclusion:** Levels 'I' and 'S' are overlapping the most."
   ]
  },
  {
   "cell_type": "markdown",
   "metadata": {},
   "source": [
    "### 9- Out of the independent features among C2 to C6, arrange these features in ascending or descending order of importance depending upon any feature selection method you wish to apply. Write the code and explain."
   ]
  },
  {
   "cell_type": "code",
   "execution_count": 29,
   "metadata": {},
   "outputs": [
    {
     "name": "stdout",
     "output_type": "stream",
     "text": [
      "Feature: 0, Score: 0.04329\n",
      "Feature: 1, Score: 0.03911\n",
      "Feature: 2, Score: 0.85692\n",
      "Feature: 3, Score: 0.02706\n",
      "Feature: 4, Score: 0.03362\n",
      "Feature: 5, Score: 0.00000\n",
      "\n",
      " Index(['C1', 'C2', 'C3', 'C4', 'C5', 'C6'], dtype='object')\n"
     ]
    }
   ],
   "source": [
    "importance = clf.feature_importances_\n",
    "\n",
    "for i,v in enumerate(importance):\n",
    "    print('Feature: %0d, Score: %.5f' % (i,v))\n",
    "    \n",
    "print('\\n', X.columns)"
   ]
  },
  {
   "cell_type": "markdown",
   "metadata": {},
   "source": [
    "Feature importance in descending order."
   ]
  },
  {
   "cell_type": "code",
   "execution_count": 30,
   "metadata": {},
   "outputs": [
    {
     "data": {
      "text/html": [
       "<div>\n",
       "<style scoped>\n",
       "    .dataframe tbody tr th:only-of-type {\n",
       "        vertical-align: middle;\n",
       "    }\n",
       "\n",
       "    .dataframe tbody tr th {\n",
       "        vertical-align: top;\n",
       "    }\n",
       "\n",
       "    .dataframe thead th {\n",
       "        text-align: right;\n",
       "    }\n",
       "</style>\n",
       "<table border=\"1\" class=\"dataframe\">\n",
       "  <thead>\n",
       "    <tr style=\"text-align: right;\">\n",
       "      <th></th>\n",
       "      <th>Feature</th>\n",
       "      <th>Importance</th>\n",
       "    </tr>\n",
       "  </thead>\n",
       "  <tbody>\n",
       "    <tr>\n",
       "      <th>0</th>\n",
       "      <td>C3</td>\n",
       "      <td>0.856919</td>\n",
       "    </tr>\n",
       "    <tr>\n",
       "      <th>1</th>\n",
       "      <td>C1</td>\n",
       "      <td>0.043295</td>\n",
       "    </tr>\n",
       "    <tr>\n",
       "      <th>2</th>\n",
       "      <td>C2</td>\n",
       "      <td>0.039105</td>\n",
       "    </tr>\n",
       "    <tr>\n",
       "      <th>3</th>\n",
       "      <td>C5</td>\n",
       "      <td>0.033623</td>\n",
       "    </tr>\n",
       "    <tr>\n",
       "      <th>4</th>\n",
       "      <td>C4</td>\n",
       "      <td>0.027059</td>\n",
       "    </tr>\n",
       "    <tr>\n",
       "      <th>5</th>\n",
       "      <td>C6</td>\n",
       "      <td>0.000000</td>\n",
       "    </tr>\n",
       "  </tbody>\n",
       "</table>\n",
       "</div>"
      ],
      "text/plain": [
       "  Feature  Importance\n",
       "0      C3    0.856919\n",
       "1      C1    0.043295\n",
       "2      C2    0.039105\n",
       "3      C5    0.033623\n",
       "4      C4    0.027059\n",
       "5      C6    0.000000"
      ]
     },
     "execution_count": 30,
     "metadata": {},
     "output_type": "execute_result"
    }
   ],
   "source": [
    "imp = pd.DataFrame()\n",
    "\n",
    "imp['Feature'] = X.columns\n",
    "imp['Importance'] = importance\n",
    "\n",
    "imp.sort_values('Importance',ascending=False).reset_index(drop=True)"
   ]
  },
  {
   "cell_type": "markdown",
   "metadata": {},
   "source": [
    "### 10- Consider the following four scatter plots(in the doc file) of two variables A and B.\n"
   ]
  },
  {
   "cell_type": "markdown",
   "metadata": {},
   "source": [
    "**Question (a).** Out of the four plots, which has least correlation coefficient?\n",
    "\n",
    "**Answer.** Plot 4."
   ]
  },
  {
   "cell_type": "markdown",
   "metadata": {},
   "source": [
    "**Question (b).** Which of the plots above has very a low correlation coefficient but has some relation between the variables?\n",
    "\n",
    "**Answer.** Plot 3 has r(correlation coefficient) value very close to zero(we can see in the scatter plot)."
   ]
  },
  {
   "cell_type": "markdown",
   "metadata": {},
   "source": [
    "**Question (c).** Which of the plots above has a negative correlation?\n",
    "\n",
    "**Answer.** Plot 4."
   ]
  },
  {
   "cell_type": "markdown",
   "metadata": {},
   "source": [
    "### 11- Consider column 'C2' as a time-series column. \n",
    "Null Hypothesis (H0): This is not stationary.\n",
    "\n",
    "Alternate Hypothesis (H1): This is stationary.\n",
    "\n",
    "Perform any stationary test which can show that column 'C2' is stationary or not."
   ]
  },
  {
   "cell_type": "markdown",
   "metadata": {},
   "source": [
    "**Definition:** According to the Engineering Statistics Handbook of the NIST, a stationary process has the property that the mean, variance, and autocorrelation structure do not change over time.\n",
    "\n",
    "Using **Augmented Dickey Fuller (ADF) Test.**"
   ]
  },
  {
   "cell_type": "code",
   "execution_count": 31,
   "metadata": {},
   "outputs": [
    {
     "name": "stdout",
     "output_type": "stream",
     "text": [
      "p-value: 1.9339364386943693e-11\n"
     ]
    }
   ],
   "source": [
    "from statsmodels.tsa.stattools import adfuller\n",
    "\n",
    "result = adfuller(df['C2'], autolag='AIC')\n",
    "\n",
    "print(f'p-value: {result[1]}')"
   ]
  },
  {
   "cell_type": "markdown",
   "metadata": {},
   "source": [
    "**Answer:**\n",
    "\n",
    "The obtained p-value is smaller than significance level of 0.05.\n",
    "\n",
    "Therefore, we will reject the null hypothesis.\n",
    "\n",
    "So, the time series is stationary."
   ]
  }
 ],
 "metadata": {
  "kernelspec": {
   "display_name": "Python 3",
   "language": "python",
   "name": "python3"
  },
  "language_info": {
   "codemirror_mode": {
    "name": "ipython",
    "version": 3
   },
   "file_extension": ".py",
   "mimetype": "text/x-python",
   "name": "python",
   "nbconvert_exporter": "python",
   "pygments_lexer": "ipython3",
   "version": "3.8.1"
  }
 },
 "nbformat": 4,
 "nbformat_minor": 4
}
